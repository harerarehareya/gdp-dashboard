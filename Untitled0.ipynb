{
  "nbformat": 4,
  "nbformat_minor": 0,
  "metadata": {
    "colab": {
      "provenance": [],
      "toc_visible": true,
      "authorship_tag": "ABX9TyNfmOICpLLs6U5R3vE85qOk",
      "include_colab_link": true
    },
    "kernelspec": {
      "name": "python3",
      "display_name": "Python 3"
    },
    "language_info": {
      "name": "python"
    },
    "widgets": {
      "application/vnd.jupyter.widget-state+json": {
        "e29c164d9d5146b0baccff84aa439363": {
          "model_module": "@jupyter-widgets/controls",
          "model_name": "ButtonModel",
          "model_module_version": "1.5.0",
          "state": {
            "_dom_classes": [],
            "_model_module": "@jupyter-widgets/controls",
            "_model_module_version": "1.5.0",
            "_model_name": "ButtonModel",
            "_view_count": null,
            "_view_module": "@jupyter-widgets/controls",
            "_view_module_version": "1.5.0",
            "_view_name": "ButtonView",
            "button_style": "",
            "description": "Deck A",
            "disabled": false,
            "icon": "",
            "layout": "IPY_MODEL_f9ec64dbcd4048a3a7427f5a75f36d76",
            "style": "IPY_MODEL_07292d9c52b2456b9f5f41e23d543bfb",
            "tooltip": ""
          }
        },
        "f9ec64dbcd4048a3a7427f5a75f36d76": {
          "model_module": "@jupyter-widgets/base",
          "model_name": "LayoutModel",
          "model_module_version": "1.2.0",
          "state": {
            "_model_module": "@jupyter-widgets/base",
            "_model_module_version": "1.2.0",
            "_model_name": "LayoutModel",
            "_view_count": null,
            "_view_module": "@jupyter-widgets/base",
            "_view_module_version": "1.2.0",
            "_view_name": "LayoutView",
            "align_content": null,
            "align_items": null,
            "align_self": null,
            "border": null,
            "bottom": null,
            "display": null,
            "flex": null,
            "flex_flow": null,
            "grid_area": null,
            "grid_auto_columns": null,
            "grid_auto_flow": null,
            "grid_auto_rows": null,
            "grid_column": null,
            "grid_gap": null,
            "grid_row": null,
            "grid_template_areas": null,
            "grid_template_columns": null,
            "grid_template_rows": null,
            "height": null,
            "justify_content": null,
            "justify_items": null,
            "left": null,
            "margin": null,
            "max_height": null,
            "max_width": null,
            "min_height": null,
            "min_width": null,
            "object_fit": null,
            "object_position": null,
            "order": null,
            "overflow": null,
            "overflow_x": null,
            "overflow_y": null,
            "padding": null,
            "right": null,
            "top": null,
            "visibility": null,
            "width": null
          }
        },
        "07292d9c52b2456b9f5f41e23d543bfb": {
          "model_module": "@jupyter-widgets/controls",
          "model_name": "ButtonStyleModel",
          "model_module_version": "1.5.0",
          "state": {
            "_model_module": "@jupyter-widgets/controls",
            "_model_module_version": "1.5.0",
            "_model_name": "ButtonStyleModel",
            "_view_count": null,
            "_view_module": "@jupyter-widgets/base",
            "_view_module_version": "1.2.0",
            "_view_name": "StyleView",
            "button_color": null,
            "font_weight": ""
          }
        },
        "abcd14cd84c9442fb41427f155cb5e80": {
          "model_module": "@jupyter-widgets/controls",
          "model_name": "ButtonModel",
          "model_module_version": "1.5.0",
          "state": {
            "_dom_classes": [],
            "_model_module": "@jupyter-widgets/controls",
            "_model_module_version": "1.5.0",
            "_model_name": "ButtonModel",
            "_view_count": null,
            "_view_module": "@jupyter-widgets/controls",
            "_view_module_version": "1.5.0",
            "_view_name": "ButtonView",
            "button_style": "",
            "description": "Deck B",
            "disabled": false,
            "icon": "",
            "layout": "IPY_MODEL_1144a335d7894e25ae6a7af505e440ae",
            "style": "IPY_MODEL_22c341d6156846a68bc1752a6a7fea79",
            "tooltip": ""
          }
        },
        "1144a335d7894e25ae6a7af505e440ae": {
          "model_module": "@jupyter-widgets/base",
          "model_name": "LayoutModel",
          "model_module_version": "1.2.0",
          "state": {
            "_model_module": "@jupyter-widgets/base",
            "_model_module_version": "1.2.0",
            "_model_name": "LayoutModel",
            "_view_count": null,
            "_view_module": "@jupyter-widgets/base",
            "_view_module_version": "1.2.0",
            "_view_name": "LayoutView",
            "align_content": null,
            "align_items": null,
            "align_self": null,
            "border": null,
            "bottom": null,
            "display": null,
            "flex": null,
            "flex_flow": null,
            "grid_area": null,
            "grid_auto_columns": null,
            "grid_auto_flow": null,
            "grid_auto_rows": null,
            "grid_column": null,
            "grid_gap": null,
            "grid_row": null,
            "grid_template_areas": null,
            "grid_template_columns": null,
            "grid_template_rows": null,
            "height": null,
            "justify_content": null,
            "justify_items": null,
            "left": null,
            "margin": null,
            "max_height": null,
            "max_width": null,
            "min_height": null,
            "min_width": null,
            "object_fit": null,
            "object_position": null,
            "order": null,
            "overflow": null,
            "overflow_x": null,
            "overflow_y": null,
            "padding": null,
            "right": null,
            "top": null,
            "visibility": null,
            "width": null
          }
        },
        "22c341d6156846a68bc1752a6a7fea79": {
          "model_module": "@jupyter-widgets/controls",
          "model_name": "ButtonStyleModel",
          "model_module_version": "1.5.0",
          "state": {
            "_model_module": "@jupyter-widgets/controls",
            "_model_module_version": "1.5.0",
            "_model_name": "ButtonStyleModel",
            "_view_count": null,
            "_view_module": "@jupyter-widgets/base",
            "_view_module_version": "1.2.0",
            "_view_name": "StyleView",
            "button_color": null,
            "font_weight": ""
          }
        },
        "9e89a6237de94133852f3fa6cd40758e": {
          "model_module": "@jupyter-widgets/controls",
          "model_name": "ButtonModel",
          "model_module_version": "1.5.0",
          "state": {
            "_dom_classes": [],
            "_model_module": "@jupyter-widgets/controls",
            "_model_module_version": "1.5.0",
            "_model_name": "ButtonModel",
            "_view_count": null,
            "_view_module": "@jupyter-widgets/controls",
            "_view_module_version": "1.5.0",
            "_view_name": "ButtonView",
            "button_style": "",
            "description": "Deck C",
            "disabled": false,
            "icon": "",
            "layout": "IPY_MODEL_518dbb55f1b44af0b431f03add276ff2",
            "style": "IPY_MODEL_4aeac5712fa040fd876421ae0bc89144",
            "tooltip": ""
          }
        },
        "518dbb55f1b44af0b431f03add276ff2": {
          "model_module": "@jupyter-widgets/base",
          "model_name": "LayoutModel",
          "model_module_version": "1.2.0",
          "state": {
            "_model_module": "@jupyter-widgets/base",
            "_model_module_version": "1.2.0",
            "_model_name": "LayoutModel",
            "_view_count": null,
            "_view_module": "@jupyter-widgets/base",
            "_view_module_version": "1.2.0",
            "_view_name": "LayoutView",
            "align_content": null,
            "align_items": null,
            "align_self": null,
            "border": null,
            "bottom": null,
            "display": null,
            "flex": null,
            "flex_flow": null,
            "grid_area": null,
            "grid_auto_columns": null,
            "grid_auto_flow": null,
            "grid_auto_rows": null,
            "grid_column": null,
            "grid_gap": null,
            "grid_row": null,
            "grid_template_areas": null,
            "grid_template_columns": null,
            "grid_template_rows": null,
            "height": null,
            "justify_content": null,
            "justify_items": null,
            "left": null,
            "margin": null,
            "max_height": null,
            "max_width": null,
            "min_height": null,
            "min_width": null,
            "object_fit": null,
            "object_position": null,
            "order": null,
            "overflow": null,
            "overflow_x": null,
            "overflow_y": null,
            "padding": null,
            "right": null,
            "top": null,
            "visibility": null,
            "width": null
          }
        },
        "4aeac5712fa040fd876421ae0bc89144": {
          "model_module": "@jupyter-widgets/controls",
          "model_name": "ButtonStyleModel",
          "model_module_version": "1.5.0",
          "state": {
            "_model_module": "@jupyter-widgets/controls",
            "_model_module_version": "1.5.0",
            "_model_name": "ButtonStyleModel",
            "_view_count": null,
            "_view_module": "@jupyter-widgets/base",
            "_view_module_version": "1.2.0",
            "_view_name": "StyleView",
            "button_color": null,
            "font_weight": ""
          }
        },
        "ae46d1303b2549689b100cf5ca39cf21": {
          "model_module": "@jupyter-widgets/controls",
          "model_name": "ButtonModel",
          "model_module_version": "1.5.0",
          "state": {
            "_dom_classes": [],
            "_model_module": "@jupyter-widgets/controls",
            "_model_module_version": "1.5.0",
            "_model_name": "ButtonModel",
            "_view_count": null,
            "_view_module": "@jupyter-widgets/controls",
            "_view_module_version": "1.5.0",
            "_view_name": "ButtonView",
            "button_style": "",
            "description": "Deck D",
            "disabled": false,
            "icon": "",
            "layout": "IPY_MODEL_66e74822f9564d1b855a5afc023cf7d8",
            "style": "IPY_MODEL_02d79474f92747cda36c1910e7871499",
            "tooltip": ""
          }
        },
        "66e74822f9564d1b855a5afc023cf7d8": {
          "model_module": "@jupyter-widgets/base",
          "model_name": "LayoutModel",
          "model_module_version": "1.2.0",
          "state": {
            "_model_module": "@jupyter-widgets/base",
            "_model_module_version": "1.2.0",
            "_model_name": "LayoutModel",
            "_view_count": null,
            "_view_module": "@jupyter-widgets/base",
            "_view_module_version": "1.2.0",
            "_view_name": "LayoutView",
            "align_content": null,
            "align_items": null,
            "align_self": null,
            "border": null,
            "bottom": null,
            "display": null,
            "flex": null,
            "flex_flow": null,
            "grid_area": null,
            "grid_auto_columns": null,
            "grid_auto_flow": null,
            "grid_auto_rows": null,
            "grid_column": null,
            "grid_gap": null,
            "grid_row": null,
            "grid_template_areas": null,
            "grid_template_columns": null,
            "grid_template_rows": null,
            "height": null,
            "justify_content": null,
            "justify_items": null,
            "left": null,
            "margin": null,
            "max_height": null,
            "max_width": null,
            "min_height": null,
            "min_width": null,
            "object_fit": null,
            "object_position": null,
            "order": null,
            "overflow": null,
            "overflow_x": null,
            "overflow_y": null,
            "padding": null,
            "right": null,
            "top": null,
            "visibility": null,
            "width": null
          }
        },
        "02d79474f92747cda36c1910e7871499": {
          "model_module": "@jupyter-widgets/controls",
          "model_name": "ButtonStyleModel",
          "model_module_version": "1.5.0",
          "state": {
            "_model_module": "@jupyter-widgets/controls",
            "_model_module_version": "1.5.0",
            "_model_name": "ButtonStyleModel",
            "_view_count": null,
            "_view_module": "@jupyter-widgets/base",
            "_view_module_version": "1.2.0",
            "_view_name": "StyleView",
            "button_color": null,
            "font_weight": ""
          }
        },
        "3c54a2ab6ee243f4b525ccd6467dd543": {
          "model_module": "@jupyter-widgets/output",
          "model_name": "OutputModel",
          "model_module_version": "1.0.0",
          "state": {
            "_dom_classes": [],
            "_model_module": "@jupyter-widgets/output",
            "_model_module_version": "1.0.0",
            "_model_name": "OutputModel",
            "_view_count": null,
            "_view_module": "@jupyter-widgets/output",
            "_view_module_version": "1.0.0",
            "_view_name": "OutputView",
            "layout": "IPY_MODEL_75de974371fb488e9438a88f09d95487",
            "msg_id": "",
            "outputs": [
              {
                "output_type": "stream",
                "name": "stdout",
                "text": [
                  "選んだデッキ: A\n",
                  "今回の獲得金額: 100 (ペナルティ: -0)\n",
                  "現在の残高: 1750\n",
                  "\n",
                  "📊 10回の結果: [('A', -250, 1750), ('B', -250, 1500), ('A', 100, 1600), ('C', 50, 1650), ('D', 0, 1650), ('C', -50, 1600), ('D', 50, 1650), ('C', -50, 1600), ('D', 50, 1650), ('A', 100, 1750)]\n"
                ]
              }
            ]
          }
        },
        "75de974371fb488e9438a88f09d95487": {
          "model_module": "@jupyter-widgets/base",
          "model_name": "LayoutModel",
          "model_module_version": "1.2.0",
          "state": {
            "_model_module": "@jupyter-widgets/base",
            "_model_module_version": "1.2.0",
            "_model_name": "LayoutModel",
            "_view_count": null,
            "_view_module": "@jupyter-widgets/base",
            "_view_module_version": "1.2.0",
            "_view_name": "LayoutView",
            "align_content": null,
            "align_items": null,
            "align_self": null,
            "border": null,
            "bottom": null,
            "display": null,
            "flex": null,
            "flex_flow": null,
            "grid_area": null,
            "grid_auto_columns": null,
            "grid_auto_flow": null,
            "grid_auto_rows": null,
            "grid_column": null,
            "grid_gap": null,
            "grid_row": null,
            "grid_template_areas": null,
            "grid_template_columns": null,
            "grid_template_rows": null,
            "height": null,
            "justify_content": null,
            "justify_items": null,
            "left": null,
            "margin": null,
            "max_height": null,
            "max_width": null,
            "min_height": null,
            "min_width": null,
            "object_fit": null,
            "object_position": null,
            "order": null,
            "overflow": null,
            "overflow_x": null,
            "overflow_y": null,
            "padding": null,
            "right": null,
            "top": null,
            "visibility": null,
            "width": null
          }
        }
      }
    }
  },
  "cells": [
    {
      "cell_type": "markdown",
      "metadata": {
        "id": "view-in-github",
        "colab_type": "text"
      },
      "source": [
        "<a href=\"https://colab.research.google.com/github/harerarehareya/gdp-dashboard/blob/main/Untitled0.ipynb\" target=\"_parent\"><img src=\"https://colab.research.google.com/assets/colab-badge.svg\" alt=\"Open In Colab\"/></a>"
      ]
    },
    {
      "cell_type": "code",
      "source": [
        "import random\n",
        "import ipywidgets as widgets\n",
        "from IPython.display import display, clear_output\n",
        "\n",
        "# デッキの設定（4つの選択肢）\n",
        "decks = {\n",
        "    \"A\": {\"reward\": 100, \"penalty\": [250, 300, 350, 400, 450], \"bad\": True},\n",
        "    \"B\": {\"reward\": 100, \"penalty\": [250, 300, 350, 400, 450], \"bad\": True},\n",
        "    \"C\": {\"reward\": 50, \"penalty\": [25, 50, 75, 100], \"bad\": False},\n",
        "    \"D\": {\"reward\": 50, \"penalty\": [25, 50, 75, 100], \"bad\": False}\n",
        "}\n",
        "\n",
        "# 初期設定\n",
        "balance = 2000\n",
        "history = []\n",
        "\n",
        "# UIの設定\n",
        "output = widgets.Output()\n",
        "button_A = widgets.Button(description=\"Deck A\")\n",
        "button_B = widgets.Button(description=\"Deck B\")\n",
        "button_C = widgets.Button(description=\"Deck C\")\n",
        "button_D = widgets.Button(description=\"Deck D\")\n",
        "\n",
        "def choose_deck(deck_name):\n",
        "    global balance\n",
        "    deck = decks[deck_name]\n",
        "    penalty = random.choice(deck[\"penalty\"]) if random.random() < 0.5 else 0  # 50%でペナルティ\n",
        "    net_reward = deck[\"reward\"] - penalty\n",
        "    balance += net_reward\n",
        "    history.append((deck_name, net_reward, balance))\n",
        "\n",
        "    # 表示を更新\n",
        "    with output:\n",
        "        clear_output(wait=True)\n",
        "        print(f\"選んだデッキ: {deck_name}\")\n",
        "        print(f\"今回の獲得金額: {deck['reward']} (ペナルティ: -{penalty})\")\n",
        "        print(f\"現在の残高: {balance}\\n\")\n",
        "        if len(history) >= 10:\n",
        "            print(\"📊 10回の結果:\", history[-10:])\n",
        "\n",
        "    # ゲーム終了\n",
        "    if balance <= 0:\n",
        "        with output:\n",
        "            print(\"💀 ゲームオーバー！お金がなくなりました。\")\n",
        "\n",
        "# ボタンに機能を設定\n",
        "button_A.on_click(lambda _: choose_deck(\"A\"))\n",
        "button_B.on_click(lambda _: choose_deck(\"B\"))\n",
        "button_C.on_click(lambda _: choose_deck(\"C\"))\n",
        "button_D.on_click(lambda _: choose_deck(\"D\"))\n",
        "\n",
        "# UIを表示\n",
        "display(button_A, button_B, button_C, button_D, output)\n"
      ],
      "metadata": {
        "colab": {
          "base_uri": "https://localhost:8080/",
          "height": 249,
          "referenced_widgets": [
            "e29c164d9d5146b0baccff84aa439363",
            "f9ec64dbcd4048a3a7427f5a75f36d76",
            "07292d9c52b2456b9f5f41e23d543bfb",
            "abcd14cd84c9442fb41427f155cb5e80",
            "1144a335d7894e25ae6a7af505e440ae",
            "22c341d6156846a68bc1752a6a7fea79",
            "9e89a6237de94133852f3fa6cd40758e",
            "518dbb55f1b44af0b431f03add276ff2",
            "4aeac5712fa040fd876421ae0bc89144",
            "ae46d1303b2549689b100cf5ca39cf21",
            "66e74822f9564d1b855a5afc023cf7d8",
            "02d79474f92747cda36c1910e7871499",
            "3c54a2ab6ee243f4b525ccd6467dd543",
            "75de974371fb488e9438a88f09d95487"
          ]
        },
        "id": "jGQTft7vsfh0",
        "outputId": "7064ecf6-38d5-499f-fd69-b5d77ecbdc9a"
      },
      "execution_count": 18,
      "outputs": [
        {
          "output_type": "display_data",
          "data": {
            "text/plain": [
              "Button(description='Deck A', style=ButtonStyle())"
            ],
            "application/vnd.jupyter.widget-view+json": {
              "version_major": 2,
              "version_minor": 0,
              "model_id": "e29c164d9d5146b0baccff84aa439363"
            }
          },
          "metadata": {}
        },
        {
          "output_type": "display_data",
          "data": {
            "text/plain": [
              "Button(description='Deck B', style=ButtonStyle())"
            ],
            "application/vnd.jupyter.widget-view+json": {
              "version_major": 2,
              "version_minor": 0,
              "model_id": "abcd14cd84c9442fb41427f155cb5e80"
            }
          },
          "metadata": {}
        },
        {
          "output_type": "display_data",
          "data": {
            "text/plain": [
              "Button(description='Deck C', style=ButtonStyle())"
            ],
            "application/vnd.jupyter.widget-view+json": {
              "version_major": 2,
              "version_minor": 0,
              "model_id": "9e89a6237de94133852f3fa6cd40758e"
            }
          },
          "metadata": {}
        },
        {
          "output_type": "display_data",
          "data": {
            "text/plain": [
              "Button(description='Deck D', style=ButtonStyle())"
            ],
            "application/vnd.jupyter.widget-view+json": {
              "version_major": 2,
              "version_minor": 0,
              "model_id": "ae46d1303b2549689b100cf5ca39cf21"
            }
          },
          "metadata": {}
        },
        {
          "output_type": "display_data",
          "data": {
            "text/plain": [
              "Output()"
            ],
            "application/vnd.jupyter.widget-view+json": {
              "version_major": 2,
              "version_minor": 0,
              "model_id": "3c54a2ab6ee243f4b525ccd6467dd543"
            }
          },
          "metadata": {}
        }
      ]
    },
    {
      "cell_type": "code",
      "source": [
        "# コードをPythonファイルとして保存\n",
        "code = '''<import random\n",
        "import ipywidgets as widgets\n",
        "from IPython.display import display, clear_output\n",
        "\n",
        "# デッキの設定（4つの選択肢）\n",
        "decks = {\n",
        "    \"A\": {\"reward\": 100, \"penalty\": [250, 300, 350, 400, 450], \"bad\": True},\n",
        "    \"B\": {\"reward\": 100, \"penalty\": [250, 300, 350, 400, 450], \"bad\": True},\n",
        "    \"C\": {\"reward\": 50, \"penalty\": [25, 50, 75, 100], \"bad\": False},\n",
        "    \"D\": {\"reward\": 50, \"penalty\": [25, 50, 75, 100], \"bad\": False}\n",
        "}\n",
        "\n",
        "# 初期設定\n",
        "balance = 2000\n",
        "history = []\n",
        "\n",
        "# UIの設定\n",
        "output = widgets.Output()\n",
        "button_A = widgets.Button(description=\"Deck A\")\n",
        "button_B = widgets.Button(description=\"Deck B\")\n",
        "button_C = widgets.Button(description=\"Deck C\")\n",
        "button_D = widgets.Button(description=\"Deck D\")\n",
        "\n",
        "def choose_deck(deck_name):\n",
        "    global balance\n",
        "    deck = decks[deck_name]\n",
        "    penalty = random.choice(deck[\"penalty\"]) if random.random() < 0.5 else 0  # 50%でペナルティ\n",
        "    net_reward = deck[\"reward\"] - penalty\n",
        "    balance += net_reward\n",
        "    history.append((deck_name, net_reward, balance))\n",
        "\n",
        "    # 表示を更新\n",
        "    with output:\n",
        "        clear_output(wait=True)\n",
        "        print(f\"選んだデッキ: {deck_name}\")\n",
        "        print(f\"今回の獲得金額: {deck['reward']} (ペナルティ: -{penalty})\")\n",
        "        print(f\"現在の残高: {balance}\\n\")\n",
        "        if len(history) >= 10:\n",
        "            print(\"📊 10回の結果:\", history[-10:])\n",
        "\n",
        "    # ゲーム終了\n",
        "    if balance <= 0:\n",
        "        with output:\n",
        "            print(\"💀 ゲームオーバー！お金がなくなりました。\")\n",
        "\n",
        "# ボタンに機能を設定\n",
        "button_A.on_click(lambda _: choose_deck(\"A\"))\n",
        "button_B.on_click(lambda _: choose_deck(\"B\"))\n",
        "button_C.on_click(lambda _: choose_deck(\"C\"))\n",
        "button_D.on_click(lambda _: choose_deck(\"D\"))\n",
        "\n",
        "# UIを表示\n",
        "display(button_A, button_B, button_C, button_D, output)\n",
        ">'''\n",
        "with open('/content/ig_task.py', 'w') as f:\n",
        "    f.write(code)\n"
      ],
      "metadata": {
        "id": "o-fumxXRtL-P"
      },
      "execution_count": 21,
      "outputs": []
    }
  ]
}